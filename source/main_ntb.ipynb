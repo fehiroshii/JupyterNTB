{
 "cells": [
  {
   "attachments": {},
   "cell_type": "markdown",
   "metadata": {},
   "source": [
    "# **Jupyter Notebook interativo para cálculo de parâmetros hemodinâmicos de vídeos de coração do inseto**\n",
    "\n",
    "\n",
    "\n",
    "<font size=3>Autores: [Felipe Hiroshi Kano Inazumi](mailto:f215696@dac.unicamp.br),\n",
    "[Nelly Catherine Barbosa Calderon](mailto:n160942@dac.unicamp.br), \n",
    "[Adriano Santana](mailto:adriano.rsantana@gmail.com),\n",
    "[Rosana Almada Bassani](mailto:arbassani@unicamp.br), \n",
    "[José Wilson Magalhães Bassani](bassani@unicamp.br)"
   ]
  },
  {
   "attachments": {},
   "cell_type": "markdown",
   "metadata": {},
   "source": [
    "Version: 1.0"
   ]
  },
  {
   "cell_type": "code",
   "execution_count": null,
   "metadata": {},
   "outputs": [
    {
     "data": {
      "application/vnd.jupyter.widget-view+json": {
       "model_id": "d7ffbbf68b9d4724bbc5a90a5c8997ec",
       "version_major": 2,
       "version_minor": 0
      },
      "text/plain": [
       "VBox(children=(HBox(children=(VBox(children=(Text(value='\"D:\\\\Documentos\\\\Unicamp\\\\IC\\\\Videos\\\\15.avi\"', descr…"
      ]
     },
     "metadata": {},
     "output_type": "display_data"
    },
    {
     "data": {
      "application/vnd.jupyter.widget-view+json": {
       "model_id": "28eb525108d24f398104bd84f53eb1ee",
       "version_major": 2,
       "version_minor": 0
      },
      "text/plain": [
       "Output()"
      ]
     },
     "metadata": {},
     "output_type": "display_data"
    },
    {
     "data": {
      "application/vnd.jupyter.widget-view+json": {
       "model_id": "888c6528dc514c24b24d88734177b77c",
       "version_major": 2,
       "version_minor": 0
      },
      "text/plain": [
       "Output()"
      ]
     },
     "metadata": {},
     "output_type": "display_data"
    }
   ],
   "source": [
    "import exec_video\n",
    "exec_video.new_menu()"
   ]
  },
  {
   "cell_type": "code",
   "execution_count": 2,
   "metadata": {},
   "outputs": [
    {
     "data": {
      "application/vnd.jupyter.widget-view+json": {
       "model_id": "5fe85bd063db43d8bd5a0fdcd7659ff2",
       "version_major": 2,
       "version_minor": 0
      },
      "text/plain": [
       "Button(description='Load Video', disabled=True, icon='square', style=ButtonStyle(), tooltip='Click me')"
      ]
     },
     "metadata": {},
     "output_type": "display_data"
    }
   ],
   "source": [
    "import ipywidgets as widgets\n",
    "\n",
    "button_start = widgets.Button(\n",
    "    description='Load Video',\n",
    "    disabled=True,\n",
    "    button_style='',  # 'success', 'info', 'warning', 'danger' or ''\n",
    "    tooltip='Click me',\n",
    "    # (FontAwesome names without the `fa-` prefix)\n",
    "    icon=\"square\"\n",
    ")\n",
    "\n",
    "button_start"
   ]
  },
  {
   "attachments": {},
   "cell_type": "markdown",
   "metadata": {},
   "source": [
    "# Referências\n",
    "\n",
    "1.\tVirtanen P, Gommers R, Oliphant TE, Haberland M, Reddy T, Cournapeau D, et al. SciPy 1.0: Fundamental Algorithms for Scientific Computing in Python. Nat Methods. 2020;17:261–72. \n",
    "2.\tHarris CR, Millman KJ, der Walt SJ van, Gommers R, Virtanen P, David Cournapeau, et al. Array programming with NumPy. Nature [Internet]. 2020 set;585(7825):357–62. Available from: https://doi.org/10.1038/s41586-020-2649-2\n",
    "3.\tpandas development team T. pandas-dev/pandas: Pandas [Internet]. Zenodo; 2020. Available from: https://doi.org/10.5281/zenodo.3509134\n",
    "4.\tBradski G. The OpenCV Library. Dr Dobb’s Journal of Software Tools. 2000; \n",
    "5.\tHunter JD. Matplotlib: A 2D graphics environment. Comput Sci Eng. 2007;9(3):90–5. "
   ]
  }
 ],
 "metadata": {
  "interpreter": {
   "hash": "1a0efc7ed7210c8daa9aadd584bbae766f571d407ba1506112b0e572af6a4d67"
  },
  "kernelspec": {
   "display_name": "Python 3 (ipykernel)",
   "language": "python",
   "name": "python3"
  },
  "language_info": {
   "codemirror_mode": {
    "name": "ipython",
    "version": 3
   },
   "file_extension": ".py",
   "mimetype": "text/x-python",
   "name": "python",
   "nbconvert_exporter": "python",
   "pygments_lexer": "ipython3",
   "version": "3.9.2"
  },
  "toc-autonumbering": false,
  "toc-showcode": true,
  "toc-showmarkdowntxt": false
 },
 "nbformat": 4,
 "nbformat_minor": 4
}
