{
 "cells": [
  {
   "attachments": {},
   "cell_type": "markdown",
   "metadata": {},
   "source": [
    "# **Jupyter Notebook interativo para cálculo de parâmetros hemodinâmicos de vídeos de coração do inseto**\n",
    "\n",
    "\n",
    "\n",
    "<font size=3>Autores: [Felipe Hiroshi Kano Inazumi](mailto:f215696@dac.unicamp.br),\n",
    "[Nelly Catherine Barbosa Calderon](mailto:n160942@dac.unicamp.br), \n",
    "[Adriano Santana](mailto:adriano.rsantana@gmail.com),\n",
    "[Rosana Almada Bassani](mailto:arbassani@unicamp.br), \n",
    "[José Wilson Magalhães Bassani](bassani@unicamp.br)"
   ]
  },
  {
   "attachments": {},
   "cell_type": "markdown",
   "metadata": {},
   "source": [
    "Version: 1.0"
   ]
  },
  {
   "cell_type": "code",
   "execution_count": null,
   "metadata": {},
   "outputs": [],
   "source": [
    "!git clone https://github.com/fehiroshii/JupyterNTB/\n",
    "%cd JupyterNTB/source/google_colab/"
   ]
  },
  {
   "cell_type": "code",
   "execution_count": 1,
   "metadata": {},
   "outputs": [
    {
     "data": {
      "application/vnd.jupyter.widget-view+json": {
       "model_id": "babb208591ef4061ba097fa2caff993b",
       "version_major": 2,
       "version_minor": 0
      },
      "text/plain": [
       "VBox(children=(Text(value='C:/Users/Videos', description='Video Path:', layout=Layout(width='40%'), placeholde…"
      ]
     },
     "metadata": {},
     "output_type": "display_data"
    }
   ],
   "source": [
    "import exec_video\n",
    "exec_video.menu_colab()"
   ]
  },
  {
   "attachments": {},
   "cell_type": "markdown",
   "metadata": {},
   "source": [
    "# Referências\n",
    "\n",
    "1.\tVirtanen P, Gommers R, Oliphant TE, Haberland M, Reddy T, Cournapeau D, et al. SciPy 1.0: Fundamental Algorithms for Scientific Computing in Python. Nat Methods. 2020;17:261–72. \n",
    "2.\tHarris CR, Millman KJ, der Walt SJ van, Gommers R, Virtanen P, David Cournapeau, et al. Array programming with NumPy. Nature [Internet]. 2020 set;585(7825):357–62. Available from: https://doi.org/10.1038/s41586-020-2649-2\n",
    "3.\tpandas development team T. pandas-dev/pandas: Pandas [Internet]. Zenodo; 2020. Available from: https://doi.org/10.5281/zenodo.3509134\n",
    "4.\tBradski G. The OpenCV Library. Dr Dobb’s Journal of Software Tools. 2000; \n",
    "5.\tHunter JD. Matplotlib: A 2D graphics environment. Comput Sci Eng. 2007;9(3):90–5. "
   ]
  }
 ],
 "metadata": {
  "interpreter": {
   "hash": "1a0efc7ed7210c8daa9aadd584bbae766f571d407ba1506112b0e572af6a4d67"
  },
  "kernelspec": {
   "display_name": "Python 3 (ipykernel)",
   "language": "python",
   "name": "python3"
  },
  "language_info": {
   "codemirror_mode": {
    "name": "ipython",
    "version": 3
   },
   "file_extension": ".py",
   "mimetype": "text/x-python",
   "name": "python",
   "nbconvert_exporter": "python",
   "pygments_lexer": "ipython3",
   "version": "3.9.2"
  },
  "toc-autonumbering": false,
  "toc-showcode": true,
  "toc-showmarkdowntxt": false
 },
 "nbformat": 4,
 "nbformat_minor": 4
}
